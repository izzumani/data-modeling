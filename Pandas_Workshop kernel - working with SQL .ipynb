{
 "cells": [
  {
   "cell_type": "code",
   "execution_count": 4,
   "metadata": {},
   "outputs": [],
   "source": [
    "import pandas as pd\n",
    "import sqlite3"
   ]
  },
  {
   "cell_type": "code",
   "execution_count": null,
   "metadata": {},
   "outputs": [],
   "source": [
    "tables =pd.read_sql(\"SELECT name FROM sqlite_master WHERE type = 'table' ORDER BY name ASC\",sqlite3.connect('./Datasets/company_database.db'))\n",
    "tables"
   ]
  },
  {
   "cell_type": "code",
   "execution_count": null,
   "metadata": {},
   "outputs": [],
   "source": [
    "customers = pd.read_sql(\"SELECT * FROM Customers\",sqlite3.connect('./Datasets/company_database.db'))\n",
    "customers"
   ]
  },
  {
   "cell_type": "code",
   "execution_count": null,
   "metadata": {},
   "outputs": [],
   "source": [
    "invoices = pd.read_sql(\"SELECT * FROM Invoices\",sqlite3.connect('./Datasets/company_database.db'))\n",
    "invoices"
   ]
  },
  {
   "cell_type": "code",
   "execution_count": null,
   "metadata": {},
   "outputs": [],
   "source": [
    "customers.to_sql(\"Customers\",sqlite3.connect('./ExtractFiles/company_database_2.db'),if_exists = 'replace',index = False)"
   ]
  },
  {
   "cell_type": "code",
   "execution_count": null,
   "metadata": {},
   "outputs": [],
   "source": [
    "invoices.to_sql(\"Invoices\",sqlite3.connect('./ExtractFiles/company_database_2.db'),if_exists = 'replace',index = False)"
   ]
  },
  {
   "cell_type": "code",
   "execution_count": null,
   "metadata": {},
   "outputs": [],
   "source": [
    "customers =pd.read_sql(\"select * from Customers\",sqlite3.connect(\"./ExtractFiles/company_database_2.db\"))\n",
    "customers"
   ]
  },
  {
   "cell_type": "code",
   "execution_count": null,
   "metadata": {},
   "outputs": [],
   "source": [
    "new_customers = pd.read_csv('./Datasets/new_customers.csv')\n",
    "new_customers"
   ]
  },
  {
   "cell_type": "code",
   "execution_count": null,
   "metadata": {},
   "outputs": [],
   "source": [
    "new_customers.to_sql(\"Customers\",sqlite3.connect('./ExtractFiles/company_database_2.db'),if_exists = 'append',index = False)"
   ]
  },
  {
   "cell_type": "code",
   "execution_count": null,
   "metadata": {},
   "outputs": [],
   "source": [
    "customers = pd.read_sql(\"select * from Customers\",sqlite3.connect(\"./ExtractFiles/company_database_2.db\"))\n",
    "customers"
   ]
  }
 ],
 "metadata": {
  "kernelspec": {
   "display_name": "venv",
   "language": "python",
   "name": "python3"
  },
  "language_info": {
   "codemirror_mode": {
    "name": "ipython",
    "version": 3
   },
   "file_extension": ".py",
   "mimetype": "text/x-python",
   "name": "python",
   "nbconvert_exporter": "python",
   "pygments_lexer": "ipython3",
   "version": "3.11.5"
  }
 },
 "nbformat": 4,
 "nbformat_minor": 2
}

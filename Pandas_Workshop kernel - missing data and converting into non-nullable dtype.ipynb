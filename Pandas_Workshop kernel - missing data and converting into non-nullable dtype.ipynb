{
 "cells": [
  {
   "cell_type": "code",
   "execution_count": 48,
   "metadata": {},
   "outputs": [],
   "source": [
    "import pandas as pd"
   ]
  },
  {
   "cell_type": "code",
   "execution_count": 49,
   "metadata": {},
   "outputs": [],
   "source": [
    "file_url = 'https://github.com/PacktWorkshops/The-Pandas-Workshop/blob/master/Chapter04/Data/retail_purchase.csv?raw=true'\n",
    "data_frame = pd.read_csv(file_url)"
   ]
  },
  {
   "cell_type": "code",
   "execution_count": null,
   "metadata": {},
   "outputs": [],
   "source": [
    "data_frame.head()"
   ]
  },
  {
   "cell_type": "code",
   "execution_count": null,
   "metadata": {},
   "outputs": [],
   "source": [
    "data_frame.info()"
   ]
  },
  {
   "cell_type": "code",
   "execution_count": null,
   "metadata": {},
   "outputs": [],
   "source": [
    "data_frame.fillna(value = {'Receipt Id': 0,'Product Weight': 0,'Total Price': 0},inplace= True)\n",
    "data_frame.head()"
   ]
  },
  {
   "cell_type": "code",
   "execution_count": null,
   "metadata": {},
   "outputs": [],
   "source": [
    "data_frame['Date of Purchase'].fillna('01/01/99',inplace = True)\n",
    "data_frame.head()"
   ]
  },
  {
   "cell_type": "code",
   "execution_count": null,
   "metadata": {},
   "outputs": [],
   "source": [
    "data_frame.fillna(value = {'Product Name': 'Missing Name','Retail shop name': 'Missing Name'},inplace= True)\n",
    "data_frame.head()"
   ]
  },
  {
   "cell_type": "code",
   "execution_count": null,
   "metadata": {},
   "outputs": [],
   "source": [
    "data_frame['Date of Purchase'] =pd.to_datetime(data_frame['Date of Purchase'],format='%d/%m/%y')\n",
    "data_frame['Receipt Id'] =data_frame['Receipt Id'].astype('int')\n",
    "data_frame['Total Price'] =data_frame['Total Price'].str[1:].astype('int')\n",
    "data_frame['Product Weight'] =data_frame['Product Weight'].str[:-2].astype('float').astype(int)\n",
    "data_frame['Product Name'] =data_frame['Product Name'].astype('category')\n",
    "data_frame['Retail shop name'] = data_frame['Retail shop name'].astype('category')\n",
    "data_frame.info()\n"
   ]
  }
 ],
 "metadata": {
  "kernelspec": {
   "display_name": "venv",
   "language": "python",
   "name": "python3"
  },
  "language_info": {
   "codemirror_mode": {
    "name": "ipython",
    "version": 3
   },
   "file_extension": ".py",
   "mimetype": "text/x-python",
   "name": "python",
   "nbconvert_exporter": "python",
   "pygments_lexer": "ipython3",
   "version": "3.11.5"
  }
 },
 "nbformat": 4,
 "nbformat_minor": 2
}

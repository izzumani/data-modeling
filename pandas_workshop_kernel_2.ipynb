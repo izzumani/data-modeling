{
 "cells": [
  {
   "cell_type": "code",
   "execution_count": null,
   "metadata": {},
   "outputs": [],
   "source": [
    "import pandas as pd\n",
    "import random"
   ]
  },
  {
   "cell_type": "code",
   "execution_count": null,
   "metadata": {},
   "outputs": [],
   "source": [
    "# Create a list of characters and convert it to a series\n",
    "random.seed(123)\n",
    "list1 = [['A']*3,['B']*5,['C']*7]\n",
    "charlist = [x for sublist in list1 for x in sublist]\n",
    "random.shuffle(charlist)\n",
    "# Creating a series from the list\n",
    "ser1 = pd.Series(charlist)\n",
    "ser1"
   ]
  },
  {
   "cell_type": "code",
   "execution_count": null,
   "metadata": {},
   "outputs": [],
   "source": [
    "# Create a series of numerical elements by random sampling\n",
    "random.seed(123)\n",
    "ser2 = pd.Series(random.sample(range(10, 100), 15))\n",
    "ser2"
   ]
  },
  {
   "cell_type": "code",
   "execution_count": null,
   "metadata": {},
   "outputs": [],
   "source": [
    "# Creating a products data frame\n",
    "prod_df_1 = pd.concat([ser1,ser2],axis=1)\n",
    "prod_df_1.columns=['Product','Sales']\n",
    "prod_df_1"
   ]
  },
  {
   "cell_type": "code",
   "execution_count": null,
   "metadata": {},
   "outputs": [],
   "source": [
    "# Create the second series of products\n",
    "random.seed(321)\n",
    "list1 = [['A']*2,['B']*8,['C']*5]\n",
    "charlist = [x for sublist in list1 for x in sublist]\n",
    "random.shuffle(charlist)\n",
    "ser3 = pd.Series(charlist)\n",
    "ser3"
   ]
  },
  {
   "cell_type": "code",
   "execution_count": null,
   "metadata": {},
   "outputs": [],
   "source": [
    "# Creating sales figures\n",
    "random.seed(321)\n",
    "ser4 = pd.Series(random.sample(range(10, 100), 15))\n",
    "ser4"
   ]
  },
  {
   "cell_type": "code",
   "execution_count": null,
   "metadata": {},
   "outputs": [],
   "source": [
    "# Creating a products data frame\n",
    "prod_df_2 = pd.concat([ser3,ser4],axis=1)\n",
    "prod_df_2.columns=['Product','Sales']\n",
    "prod_df_2"
   ]
  },
  {
   "cell_type": "code",
   "execution_count": null,
   "metadata": {},
   "outputs": [],
   "source": [
    "prod_df_2['Sales'].eq(45)"
   ]
  },
  {
   "cell_type": "code",
   "execution_count": null,
   "metadata": {},
   "outputs": [],
   "source": [
    "prod_df_2[prod_df_2['Sales'].eq(45)]"
   ]
  },
  {
   "cell_type": "code",
   "execution_count": null,
   "metadata": {},
   "outputs": [],
   "source": [
    "prod_df_2['Sales'].gt(prod_df_1['Sales'])"
   ]
  },
  {
   "cell_type": "code",
   "execution_count": null,
   "metadata": {},
   "outputs": [],
   "source": [
    "prod_df_2[prod_df_2['Sales'].gt(prod_df_1['Sales'])]"
   ]
  },
  {
   "cell_type": "code",
   "execution_count": null,
   "metadata": {},
   "outputs": [],
   "source": [
    "prod_df_2[prod_df_2['Sales'].lt(prod_df_1['Sales'])]"
   ]
  },
  {
   "cell_type": "code",
   "execution_count": null,
   "metadata": {},
   "outputs": [],
   "source": [
    "prod_df_2.iloc[[2,5,6,8]]"
   ]
  },
  {
   "cell_type": "code",
   "execution_count": null,
   "metadata": {},
   "outputs": [],
   "source": [
    "tab1 = prod_df_1.groupby(['Product']).agg('sum')\n",
    "tab1"
   ]
  },
  {
   "cell_type": "code",
   "execution_count": null,
   "metadata": {},
   "outputs": [],
   "source": [
    "tab2 = prod_df_2.groupby(['Product']).agg('sum')\n",
    "tab2"
   ]
  },
  {
   "cell_type": "code",
   "execution_count": null,
   "metadata": {},
   "outputs": [],
   "source": [
    "tab3 = pd.DataFrame(pd.merge(tab1,tab2,on=['Product']))\n",
    "tab3.columns = ['Sales1','Sales2']"
   ]
  },
  {
   "cell_type": "code",
   "execution_count": null,
   "metadata": {},
   "outputs": [],
   "source": [
    "tab3"
   ]
  }
 ],
 "metadata": {
  "kernelspec": {
   "display_name": "venv",
   "language": "python",
   "name": "python3"
  },
  "language_info": {
   "codemirror_mode": {
    "name": "ipython",
    "version": 3
   },
   "file_extension": ".py",
   "mimetype": "text/x-python",
   "name": "python",
   "nbconvert_exporter": "python",
   "pygments_lexer": "ipython3",
   "version": "3.11.5"
  }
 },
 "nbformat": 4,
 "nbformat_minor": 2
}

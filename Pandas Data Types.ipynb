{
 "cells": [
  {
   "cell_type": "code",
   "execution_count": 73,
   "metadata": {},
   "outputs": [],
   "source": [
    "import pandas as pd\n",
    "import numpy as np"
   ]
  },
  {
   "cell_type": "code",
   "execution_count": 74,
   "metadata": {},
   "outputs": [],
   "source": [
    "column_names = [\"Customer ID\", \"Customer Name\",\"2018 Revenue\", \"2019 Revenue\",\"Growth\", \"Start Year\", \"Start Month\",\"Start Day\", \"New Customer\"]\n",
    "row1 = list([1001.0, 'Pandas Banking','€235000', '€248000','5.5%', 2013,3,10, 0])\n",
    "row2 = list([1002.0, 'Pandas Grocery','€196000', '€205000','4.5%', 2016,4,30, 0])\n",
    "row3 = list([1003.0, 'Pandas Telecom','€167000', '€193000', '15.5%',2010,11,24, 0])\n",
    "row4 = list([1004.0, 'Pandas Transport','€79000', '€90000', '13.9%',2018,1,15, 1])\n",
    "row5 = list([1005.0, 'Pandas Insurance','€241000', '€264000', '9.5%',2009,6,1, 0])\n"
   ]
  },
  {
   "cell_type": "code",
   "execution_count": null,
   "metadata": {},
   "outputs": [],
   "source": [
    "data_frame = pd.DataFrame(data=[row1, row2, row3, row4, row5],columns=column_names)\n",
    "data_frame"
   ]
  },
  {
   "cell_type": "code",
   "execution_count": null,
   "metadata": {},
   "outputs": [],
   "source": [
    "data_frame['2018 Revenue'] + data_frame['2019 Revenue']"
   ]
  },
  {
   "cell_type": "code",
   "execution_count": null,
   "metadata": {},
   "outputs": [],
   "source": [
    "data_frame.dtypes"
   ]
  },
  {
   "cell_type": "code",
   "execution_count": null,
   "metadata": {},
   "outputs": [],
   "source": [
    "data_frame.info()"
   ]
  },
  {
   "cell_type": "code",
   "execution_count": null,
   "metadata": {},
   "outputs": [],
   "source": [
    "data_frame[\"Customer ID\"] =data_frame['Customer ID'].astype('int')\n",
    "data_frame[\"Customer ID\"]"
   ]
  },
  {
   "cell_type": "code",
   "execution_count": 80,
   "metadata": {},
   "outputs": [],
   "source": [
    "# data_frame['2018 Revenue'] =data_frame['2018 Revenue'].astype('int')"
   ]
  },
  {
   "cell_type": "code",
   "execution_count": 81,
   "metadata": {},
   "outputs": [],
   "source": [
    "def remove_currency(column):\n",
    "    new_column = column.replace('€','')\n",
    "    return int(new_column)"
   ]
  },
  {
   "cell_type": "code",
   "execution_count": null,
   "metadata": {},
   "outputs": [],
   "source": [
    "data_frame['2018 Revenue'] =data_frame['2018 Revenue'].apply(remove_currency)\n",
    "data_frame[\"2018 Revenue\"]\n"
   ]
  },
  {
   "cell_type": "code",
   "execution_count": null,
   "metadata": {},
   "outputs": [],
   "source": [
    "data_frame['2019 Revenue'] = data_frame['2019 Revenue'].apply(remove_currency)\n",
    "data_frame[\"2019 Revenue\"]"
   ]
  },
  {
   "cell_type": "code",
   "execution_count": 84,
   "metadata": {},
   "outputs": [],
   "source": [
    "def remove_percentage(column):\n",
    "    new_column = column.replace('%','')\n",
    "    return float(new_column)"
   ]
  },
  {
   "cell_type": "code",
   "execution_count": null,
   "metadata": {},
   "outputs": [],
   "source": [
    "data_frame['Growth'] = data_frame['Growth'].apply(remove_percentage)\n",
    "data_frame[\"Growth\"]"
   ]
  },
  {
   "cell_type": "code",
   "execution_count": null,
   "metadata": {},
   "outputs": [],
   "source": [
    "data_frame.rename(columns={'Start Year': 'year','Start Month': 'month','Start Day': 'day'},inplace=True)\n",
    "data_frame['Starting Date'] =pd.to_datetime(data_frame[['day', 'month', 'year']])\n",
    "data_frame['Starting Date']"
   ]
  },
  {
   "cell_type": "code",
   "execution_count": null,
   "metadata": {},
   "outputs": [],
   "source": [
    "data_frame[\"New Customer\"] =data_frame['New Customer'].astype('bool')\n",
    "data_frame[\"New Customer\"]"
   ]
  },
  {
   "cell_type": "code",
   "execution_count": null,
   "metadata": {},
   "outputs": [],
   "source": [
    "data_frame[\"Customer Name\"] =data_frame['Customer Name'].astype('category')\n",
    "data_frame[\"Customer Name\"]"
   ]
  },
  {
   "cell_type": "code",
   "execution_count": null,
   "metadata": {},
   "outputs": [],
   "source": [
    "data_frame.dtypes"
   ]
  },
  {
   "cell_type": "code",
   "execution_count": null,
   "metadata": {},
   "outputs": [],
   "source": [
    "data_frame['2018 Revenue'] + data_frame['2019 Revenue']"
   ]
  },
  {
   "cell_type": "code",
   "execution_count": null,
   "metadata": {},
   "outputs": [],
   "source": [
    "data_frame['Starting Date'] - pd.to_datetime('2020-09-01')"
   ]
  },
  {
   "cell_type": "code",
   "execution_count": null,
   "metadata": {},
   "outputs": [],
   "source": [
    "data_frame.drop(['year','month','day'],axis=1,inplace=True)\n",
    "data_frame.iloc[0,0]=None\n",
    "data_frame.iloc[4,1] = None\n",
    "data_frame.iloc[2,2] = None\n",
    "data_frame.iloc[3,3] = None\n",
    "data_frame.iloc[3,4] = None\n",
    "data_frame.iloc[1,5] = None\n",
    "data_frame.iloc[2,6] = None\n",
    "data_frame"
   ]
  },
  {
   "cell_type": "code",
   "execution_count": null,
   "metadata": {},
   "outputs": [],
   "source": [
    "data_frame.info()"
   ]
  },
  {
   "cell_type": "code",
   "execution_count": 94,
   "metadata": {},
   "outputs": [],
   "source": [
    "# data_frame[\"Customer ID\"] =data_frame['Customer ID'].astype('int')\n",
    "# data_frame[\"Customer ID\"]"
   ]
  },
  {
   "cell_type": "code",
   "execution_count": null,
   "metadata": {},
   "outputs": [],
   "source": [
    "data_frame[\"Customer Name\"] =data_frame['Customer Name'].astype('object')\n",
    "data_frame[\"Customer Name\"]"
   ]
  },
  {
   "cell_type": "code",
   "execution_count": null,
   "metadata": {},
   "outputs": [],
   "source": [
    "data_frame[\"New Customer\"] =data_frame['New Customer'].astype('bool')\n",
    "data_frame[\"New Customer\"]"
   ]
  },
  {
   "cell_type": "code",
   "execution_count": null,
   "metadata": {},
   "outputs": [],
   "source": [
    "data_frame['Starting Date'] - pd.to_datetime('2020-09-01')"
   ]
  },
  {
   "cell_type": "code",
   "execution_count": null,
   "metadata": {},
   "outputs": [],
   "source": [
    "s = pd.Series(['pandas is awesome'])\n",
    "s"
   ]
  },
  {
   "cell_type": "code",
   "execution_count": null,
   "metadata": {},
   "outputs": [],
   "source": [
    "s.str.split()"
   ]
  },
  {
   "cell_type": "code",
   "execution_count": null,
   "metadata": {},
   "outputs": [],
   "source": [
    "s.str.replace('pandas', 'python')"
   ]
  },
  {
   "cell_type": "code",
   "execution_count": null,
   "metadata": {},
   "outputs": [],
   "source": [
    "s.str.count('a')"
   ]
  },
  {
   "cell_type": "code",
   "execution_count": null,
   "metadata": {},
   "outputs": [],
   "source": [
    "s.str.len()"
   ]
  },
  {
   "cell_type": "code",
   "execution_count": null,
   "metadata": {},
   "outputs": [],
   "source": [
    "s.str.capitalize()"
   ]
  },
  {
   "cell_type": "code",
   "execution_count": null,
   "metadata": {},
   "outputs": [],
   "source": [
    "s.str.islower()"
   ]
  },
  {
   "cell_type": "code",
   "execution_count": null,
   "metadata": {},
   "outputs": [],
   "source": [
    "string1 = pd.Series('pandas is')\n",
    "string2 = pd.Series(' awesome')\n",
    "string1.str.cat(string2)"
   ]
  },
  {
   "cell_type": "code",
   "execution_count": null,
   "metadata": {},
   "outputs": [],
   "source": [
    "string = pd.Series('pandas is awesome')\n",
    "string.str.contains('pandas')"
   ]
  },
  {
   "cell_type": "code",
   "execution_count": null,
   "metadata": {},
   "outputs": [],
   "source": [
    "string = pd.Series('pandas')\n",
    "string.str.repeat(2)"
   ]
  },
  {
   "cell_type": "code",
   "execution_count": null,
   "metadata": {},
   "outputs": [],
   "source": [
    "string = pd.Series('pandas is awesome')\n",
    "string.str.lower()"
   ]
  },
  {
   "cell_type": "code",
   "execution_count": null,
   "metadata": {},
   "outputs": [],
   "source": [
    "string = pd.Series('PANDAS is awesome')\n",
    "string.str.upper()"
   ]
  },
  {
   "cell_type": "code",
   "execution_count": null,
   "metadata": {},
   "outputs": [],
   "source": [
    "string = pd.Series('Pandas IS awesome')\n",
    "string.str.swapcase()"
   ]
  },
  {
   "cell_type": "code",
   "execution_count": null,
   "metadata": {},
   "outputs": [],
   "source": [
    "s = pd.Categorical([\"large\", \"small\", \"medium\", \"small\"],categories=[\"large\", \"small\", \"medium\"],ordered=False)\n",
    "s\n",
    "                   "
   ]
  },
  {
   "cell_type": "code",
   "execution_count": null,
   "metadata": {},
   "outputs": [],
   "source": [
    "s.categories"
   ]
  },
  {
   "cell_type": "code",
   "execution_count": null,
   "metadata": {},
   "outputs": [],
   "source": [
    "s.add_categories(['extra large'])"
   ]
  },
  {
   "cell_type": "code",
   "execution_count": null,
   "metadata": {},
   "outputs": [],
   "source": [
    "s = s.reorder_categories([\"small\", \"medium\",\"large\"], ordered=True)\n",
    "s"
   ]
  },
  {
   "cell_type": "code",
   "execution_count": null,
   "metadata": {},
   "outputs": [],
   "source": [
    "s.sort_values()"
   ]
  },
  {
   "cell_type": "code",
   "execution_count": null,
   "metadata": {},
   "outputs": [],
   "source": [
    "series = pd.Categorical(['a','b'], categories=['a','b'])\n",
    "series.rename_categories({'a':'A'})\n",
    "series.categories"
   ]
  },
  {
   "cell_type": "code",
   "execution_count": null,
   "metadata": {},
   "outputs": [],
   "source": [
    "s = pd.to_datetime(pd.Series(['1990-05-31 10:00','1995-06-05 15:00','2020-09-09 12:00']))\n",
    "\n",
    "s"
   ]
  },
  {
   "cell_type": "code",
   "execution_count": null,
   "metadata": {},
   "outputs": [],
   "source": [
    "s.dt.date"
   ]
  },
  {
   "cell_type": "code",
   "execution_count": null,
   "metadata": {},
   "outputs": [],
   "source": [
    "s.dt.time"
   ]
  },
  {
   "cell_type": "code",
   "execution_count": null,
   "metadata": {},
   "outputs": [],
   "source": [
    "s.dt.year"
   ]
  },
  {
   "cell_type": "code",
   "execution_count": null,
   "metadata": {},
   "outputs": [],
   "source": [
    "s.dt.month"
   ]
  },
  {
   "cell_type": "code",
   "execution_count": null,
   "metadata": {},
   "outputs": [],
   "source": [
    "s.dt.day"
   ]
  },
  {
   "cell_type": "code",
   "execution_count": null,
   "metadata": {},
   "outputs": [],
   "source": [
    "s.dt.hour"
   ]
  },
  {
   "cell_type": "code",
   "execution_count": null,
   "metadata": {},
   "outputs": [],
   "source": [
    "s.dt.minute"
   ]
  },
  {
   "cell_type": "code",
   "execution_count": null,
   "metadata": {},
   "outputs": [],
   "source": [
    "s.dt.second"
   ]
  },
  {
   "cell_type": "code",
   "execution_count": null,
   "metadata": {},
   "outputs": [],
   "source": [
    "s.dt.day_name()"
   ]
  },
  {
   "cell_type": "code",
   "execution_count": null,
   "metadata": {},
   "outputs": [],
   "source": [
    "s = pd.to_datetime(pd.Series(['1990-05-31','1995-06-05','2020-09-09']))- pd.to_datetime('2020-01-01')\n",
    "s"
   ]
  },
  {
   "cell_type": "code",
   "execution_count": null,
   "metadata": {},
   "outputs": [],
   "source": [
    "s.dt.total_seconds()"
   ]
  },
  {
   "cell_type": "code",
   "execution_count": null,
   "metadata": {},
   "outputs": [],
   "source": [
    "import pandas as pd\n",
    "import numpy as np\n",
    "column_names = [\"Customer ID\", \"Customer Name\",\"2018 Revenue\", \"2019 Revenue\",\"Growth\", \"Start Year\", \"Start Month\",\"Start Day\", \"New Customer\"]\n",
    "row1 = list([1001.0, 'Pandas Banking', '235000','248000', '5.5', 2013,3,10, 0])\n",
    "row2 = list([1002.0, 'Pandas Grocery', '196000', '205000','4.5', 2016,4,30, 0])\n",
    "row3 = list([1003.0, 'Pandas Telecom', '167000','193000', '15.5', 2010,11,24, 0])\n",
    "row4 = list([1004.0, 'Pandas Transport', '79000','90000', '13.9', 2018,1,15, 1])\n",
    "row5 = list([1005.0, 'Pandas Insurance', '241000','264000', '9.5', 2009,6,1, 0])\n",
    "data_frame = pd.DataFrame(data=[row1, row2, row3, row4, row5],columns=column_names)\n",
    "data_frame"
   ]
  },
  {
   "cell_type": "code",
   "execution_count": null,
   "metadata": {},
   "outputs": [],
   "source": [
    "data_frame.dtypes"
   ]
  },
  {
   "cell_type": "code",
   "execution_count": null,
   "metadata": {},
   "outputs": [],
   "source": [
    "data_frame.select_dtypes('object')"
   ]
  },
  {
   "cell_type": "code",
   "execution_count": null,
   "metadata": {},
   "outputs": [],
   "source": [
    "data_frame.select_dtypes('number')"
   ]
  },
  {
   "cell_type": "code",
   "execution_count": null,
   "metadata": {},
   "outputs": [],
   "source": [
    "data_frame.select_dtypes('number', exclude='int64')"
   ]
  }
 ],
 "metadata": {
  "kernelspec": {
   "display_name": "venv",
   "language": "python",
   "name": "python3"
  },
  "language_info": {
   "codemirror_mode": {
    "name": "ipython",
    "version": 3
   },
   "file_extension": ".py",
   "mimetype": "text/x-python",
   "name": "python",
   "nbconvert_exporter": "python",
   "pygments_lexer": "ipython3",
   "version": "3.11.5"
  }
 },
 "nbformat": 4,
 "nbformat_minor": 2
}

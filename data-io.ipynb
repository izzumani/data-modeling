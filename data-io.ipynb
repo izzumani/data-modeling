{
 "cells": [
  {
   "cell_type": "code",
   "execution_count": null,
   "metadata": {},
   "outputs": [],
   "source": [
    "pip install scipy openpyxl lxml requests pandas-read-xml"
   ]
  },
  {
   "cell_type": "code",
   "execution_count": null,
   "metadata": {},
   "outputs": [],
   "source": [
    "import scipy.io\n",
    "mat = scipy.io.loadmat('Datasets/matlab.mat')\n",
    "mat"
   ]
  },
  {
   "cell_type": "code",
   "execution_count": null,
   "metadata": {},
   "outputs": [],
   "source": [
    "import pandas as pd\n",
    "dog_food_orders = pd.read_excel('./Datasets/dog_food_orders.xlsx', engine = 'openpyxl')\n",
    "dog_food_orders"
   ]
  },
  {
   "cell_type": "code",
   "execution_count": null,
   "metadata": {},
   "outputs": [],
   "source": [
    "data_url = 'https://en.wikipedia.org/wiki/Wind_power'\n",
    "data = pd.read_html(data_url)\n",
    "data"
   ]
  },
  {
   "cell_type": "code",
   "execution_count": null,
   "metadata": {},
   "outputs": [],
   "source": [
    "data[1]"
   ]
  },
  {
   "cell_type": "code",
   "execution_count": null,
   "metadata": {},
   "outputs": [],
   "source": [
    "pd.read_csv('./Datasets/bike_share.csv')"
   ]
  },
  {
   "cell_type": "code",
   "execution_count": null,
   "metadata": {},
   "outputs": [],
   "source": [
    "pd.read_csv('./Datasets/bike_share_UCS_2_LE_BOM.csv',encoding = 'utf_16_le')"
   ]
  },
  {
   "cell_type": "code",
   "execution_count": null,
   "metadata": {},
   "outputs": [],
   "source": [
    "pd.read_csv('./Datasets/bike_share_UCS_2_LE_BOM.tsv',encoding = 'utf_16_le',sep = '\\t')"
   ]
  },
  {
   "cell_type": "code",
   "execution_count": 14,
   "metadata": {},
   "outputs": [],
   "source": [
    "import sqlite3"
   ]
  },
  {
   "cell_type": "code",
   "execution_count": 15,
   "metadata": {},
   "outputs": [],
   "source": [
    "conn = sqlite3.connect('./Datasets/bike_share.db')\n",
    "c = conn.cursor()"
   ]
  },
  {
   "cell_type": "code",
   "execution_count": 16,
   "metadata": {},
   "outputs": [],
   "source": [
    "data = pd.read_csv('./Datasets/bike_share_UCS_2_LE_BOM.tsv', encoding = 'utf_16_le',sep = '\\t')"
   ]
  },
  {
   "cell_type": "code",
   "execution_count": null,
   "metadata": {},
   "outputs": [],
   "source": [
    "c.execute('CREATE TABLE IF NOT EXISTS RENTALS (Date, Hour, Qty)')"
   ]
  },
  {
   "cell_type": "code",
   "execution_count": null,
   "metadata": {},
   "outputs": [],
   "source": [
    "data.to_sql(\"RENTALS\", conn, if_exists = 'replace')"
   ]
  },
  {
   "cell_type": "code",
   "execution_count": 19,
   "metadata": {},
   "outputs": [],
   "source": [
    "import requests"
   ]
  },
  {
   "cell_type": "code",
   "execution_count": 20,
   "metadata": {},
   "outputs": [],
   "source": [
    "US_counties_query = requests.get('https://api.census.gov/data/2010/dec/sf1?get=NAME&for=county:*')"
   ]
  },
  {
   "cell_type": "code",
   "execution_count": null,
   "metadata": {},
   "outputs": [],
   "source": [
    "US_counties_query.text"
   ]
  },
  {
   "cell_type": "code",
   "execution_count": 22,
   "metadata": {},
   "outputs": [],
   "source": [
    "import ast"
   ]
  },
  {
   "cell_type": "code",
   "execution_count": 23,
   "metadata": {},
   "outputs": [],
   "source": [
    "US_counties_data = ast.literal_eval(US_counties_query.text)"
   ]
  },
  {
   "cell_type": "code",
   "execution_count": null,
   "metadata": {},
   "outputs": [],
   "source": [
    "[US_counties_data[i] for i in range(len(US_counties_data))]"
   ]
  },
  {
   "cell_type": "code",
   "execution_count": null,
   "metadata": {},
   "outputs": [],
   "source": [
    "US_counties_data = pd.read_json(US_counties_query.text)\n",
    "US_counties_data"
   ]
  },
  {
   "cell_type": "code",
   "execution_count": 26,
   "metadata": {},
   "outputs": [],
   "source": [
    "URL ='https://api.census.gov/data/2010/dec/sf1?get=NAME&for=county:*'\n",
    "US_counties_data = pd.read_json(URL).loc[1:, :]"
   ]
  },
  {
   "cell_type": "code",
   "execution_count": null,
   "metadata": {},
   "outputs": [],
   "source": [
    "US_counties_data.columns = ['County','state_code','county_code']\n",
    "US_counties_data"
   ]
  },
  {
   "cell_type": "code",
   "execution_count": null,
   "metadata": {},
   "outputs": [],
   "source": [
    "data_url = 'https://en.wikipedia.org/wiki/Wind_power'\n",
    "data = pd.read_html(data_url)\n",
    "len(data)"
   ]
  },
  {
   "cell_type": "code",
   "execution_count": null,
   "metadata": {},
   "outputs": [],
   "source": [
    "data[1]"
   ]
  },
  {
   "cell_type": "code",
   "execution_count": null,
   "metadata": {},
   "outputs": [],
   "source": [
    "!pip install pandas-read-xml"
   ]
  },
  {
   "cell_type": "code",
   "execution_count": 31,
   "metadata": {},
   "outputs": [],
   "source": [
    "import pandas_read_xml as pdx"
   ]
  },
  {
   "cell_type": "code",
   "execution_count": null,
   "metadata": {},
   "outputs": [],
   "source": [
    "pdx.read_xml('https://data.cityofnewyork.us/api/views/37fm-7uaa/rows.xml?accessType=DOWNLOAD',['response', 'row', 'row'],root_is_rows = False)"
   ]
  },
  {
   "cell_type": "code",
   "execution_count": null,
   "metadata": {},
   "outputs": [],
   "source": [
    "sensor_data = pd.read_excel('./Datasets/sensor_data.xlsx',usecols = [2, 3, 4, 5],header = 3,sheet_name = '20210117_0037',engine = 'openpyxl')\n",
    "sensor_data"
   ]
  },
  {
   "cell_type": "code",
   "execution_count": null,
   "metadata": {},
   "outputs": [],
   "source": [
    "data = pd.read_sas('./Datasets/airline.sas7bdat')\n",
    "data.head()"
   ]
  },
  {
   "cell_type": "code",
   "execution_count": null,
   "metadata": {},
   "outputs": [],
   "source": [
    "pip install pyreadstat"
   ]
  },
  {
   "cell_type": "code",
   "execution_count": null,
   "metadata": {},
   "outputs": [],
   "source": [
    "data = pd.read_spss('./Datasets/bodyfat.sav')\n",
    "data.head()"
   ]
  },
  {
   "cell_type": "code",
   "execution_count": null,
   "metadata": {},
   "outputs": [],
   "source": [
    "data = pd.read_stata('./Datasets/rscfp2019.dta')\n",
    "print('data:\\n', data.head(2))"
   ]
  },
  {
   "cell_type": "code",
   "execution_count": 38,
   "metadata": {},
   "outputs": [],
   "source": [
    "data.to_stata('./ExtractFiles/rscfp2019_write.dta',write_index=False)"
   ]
  },
  {
   "cell_type": "code",
   "execution_count": null,
   "metadata": {},
   "outputs": [],
   "source": [
    "data2 = pd.read_stata('./ExtractFiles/rscfp2019_write.dta')\n",
    "print('data2:\\n', data2.head(2))"
   ]
  },
  {
   "cell_type": "code",
   "execution_count": null,
   "metadata": {},
   "outputs": [],
   "source": [
    "print('differences between rscfp2019 and rscfp2019_write:\\n',data.compare(data2))"
   ]
  },
  {
   "cell_type": "code",
   "execution_count": null,
   "metadata": {},
   "outputs": [],
   "source": [
    "pip install git+https://github.com/PyTables/PyTables"
   ]
  },
  {
   "cell_type": "code",
   "execution_count": 42,
   "metadata": {},
   "outputs": [],
   "source": [
    "import numpy as np "
   ]
  },
  {
   "cell_type": "code",
   "execution_count": 43,
   "metadata": {},
   "outputs": [],
   "source": [
    "time = np.arange(0, 100, 0.01)"
   ]
  },
  {
   "cell_type": "code",
   "execution_count": 44,
   "metadata": {},
   "outputs": [],
   "source": [
    "values = np.sin(2 * np.pi * time / 17)"
   ]
  },
  {
   "cell_type": "code",
   "execution_count": 45,
   "metadata": {},
   "outputs": [],
   "source": [
    "data = pd.DataFrame({'time': time, 'data': values})"
   ]
  },
  {
   "cell_type": "code",
   "execution_count": null,
   "metadata": {},
   "outputs": [],
   "source": [
    "# data.to_hdf('./ExtractFiles/store_data_h5.h5', 'table', append = True)"
   ]
  },
  {
   "cell_type": "code",
   "execution_count": null,
   "metadata": {},
   "outputs": [],
   "source": [
    "import sqlite3\n",
    "tables =pd.read_sql(\"SELECT name FROM sqlite_master WHERE type = 'table' ORDER BY name ASC\",sqlite3.connect('./Datasets/pet_stores.db'))\n",
    "tables"
   ]
  },
  {
   "cell_type": "code",
   "execution_count": 60,
   "metadata": {},
   "outputs": [],
   "source": [
    "stores = pd.read_sql(\"SELECT * FROM Customers\",sqlite3.connect('./Datasets/pet_stores.db'))"
   ]
  },
  {
   "cell_type": "code",
   "execution_count": 61,
   "metadata": {},
   "outputs": [],
   "source": [
    "invoices = pd.read_sql(\"SELECT * FROM Invoices\",sqlite3.connect('./Datasets/pet_stores.db'))"
   ]
  },
  {
   "cell_type": "code",
   "execution_count": null,
   "metadata": {},
   "outputs": [],
   "source": [
    "stores.to_sql(\"Customers\",sqlite3.connect('./ExtractFiles/pet_stores_2.db'),if_exists = 'replace',index = True)"
   ]
  },
  {
   "cell_type": "code",
   "execution_count": null,
   "metadata": {},
   "outputs": [],
   "source": [
    "invoices.to_sql(\"Invoices\",sqlite3.connect('./ExtractFiles/pet_stores_2.db'),if_exists = 'replace',index = True)"
   ]
  },
  {
   "cell_type": "code",
   "execution_count": null,
   "metadata": {},
   "outputs": [],
   "source": [
    "customers =pd.read_sql('select Customer_Number, Company, City, State from Customers',sqlite3.connect('./ExtractFiles/pet_stores_2.db'))\n",
    "customers\n"
   ]
  },
  {
   "cell_type": "code",
   "execution_count": null,
   "metadata": {},
   "outputs": [],
   "source": [
    "TX_customers =pd.read_sql(\"select Customer_Number, Company, City, State from Customers \" +\"WHERE State = 'TX'\",sqlite3.connect('./ExtractFiles/pet_stores_2.db'))\n",
    "TX_customers"
   ]
  },
  {
   "cell_type": "code",
   "execution_count": null,
   "metadata": {},
   "outputs": [],
   "source": [
    "customers.loc[customers['State'] == 'TX', :]"
   ]
  },
  {
   "cell_type": "code",
   "execution_count": null,
   "metadata": {},
   "outputs": [],
   "source": [
    "invoices = pd.read_sql(\"select * from Invoices\",sqlite3.connect('./ExtractFiles/pet_stores_2.db'))\n",
    "print(invoices.head(3), '\\n', invoices.tail(3))"
   ]
  },
  {
   "cell_type": "code",
   "execution_count": null,
   "metadata": {},
   "outputs": [],
   "source": [
    "new_invoices = pd.read_csv('./Datasets/new_invoices.csv')\n",
    "new_invoices"
   ]
  },
  {
   "cell_type": "code",
   "execution_count": null,
   "metadata": {},
   "outputs": [],
   "source": [
    "new_invoices.index = list(range(invoices['index'].max() + 1,invoices['index'].max() + new_invoices.shape[0] + 1))\n",
    "new_invoices"
   ]
  },
  {
   "cell_type": "code",
   "execution_count": null,
   "metadata": {},
   "outputs": [],
   "source": [
    "new_invoices.to_sql(\"Invoices\",sqlite3.connect('./ExtractFiles/pet_store_2.db'),if_exists = 'append',index = True)"
   ]
  },
  {
   "cell_type": "code",
   "execution_count": null,
   "metadata": {},
   "outputs": [],
   "source": [
    "invoices = pd.read_sql(\"select * from Invoices\",sqlite3.connect('./ExtractFiles/pet_stores_2.db'))\n",
    "print(invoices.head(), '\\n', invoices.tail())"
   ]
  }
 ],
 "metadata": {
  "kernelspec": {
   "display_name": "venv",
   "language": "python",
   "name": "python3"
  },
  "language_info": {
   "codemirror_mode": {
    "name": "ipython",
    "version": 3
   },
   "file_extension": ".py",
   "mimetype": "text/x-python",
   "name": "python",
   "nbconvert_exporter": "python",
   "pygments_lexer": "ipython3",
   "version": "3.11.5"
  }
 },
 "nbformat": 4,
 "nbformat_minor": 2
}

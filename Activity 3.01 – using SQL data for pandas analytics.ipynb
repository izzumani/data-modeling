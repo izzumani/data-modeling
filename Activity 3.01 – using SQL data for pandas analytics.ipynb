{
 "cells": [
  {
   "cell_type": "code",
   "execution_count": 1,
   "metadata": {},
   "outputs": [],
   "source": [
    "import pandas as pd\n",
    "import sqlite3"
   ]
  },
  {
   "cell_type": "code",
   "execution_count": null,
   "metadata": {},
   "outputs": [],
   "source": [
    "tables =pd.read_sql(\"SELECT name FROM sqlite_master WHERE type = 'table' ORDER BY name ASC\",sqlite3.connect('./Datasets/supply_company.db'))\n",
    "tables"
   ]
  },
  {
   "cell_type": "code",
   "execution_count": null,
   "metadata": {},
   "outputs": [],
   "source": [
    "customers = pd.read_sql(\"SELECT * FROM Customers\",sqlite3.connect('./Datasets/supply_company.db'))\n",
    "customers"
   ]
  },
  {
   "cell_type": "code",
   "execution_count": null,
   "metadata": {},
   "outputs": [],
   "source": [
    "orders = pd.read_sql(\"SELECT * FROM Orders\",sqlite3.connect('./Datasets/supply_company.db'))\n",
    "orders"
   ]
  },
  {
   "cell_type": "code",
   "execution_count": null,
   "metadata": {},
   "outputs": [],
   "source": [
    "# largest_orders = pd.read_sql(\"SELECT Customer_Number, Count(*)number_of_orders FROM Orders group by Customer_Number order by number_of_orders desc\",sqlite3.connect('./Datasets/supply_company.db'))\n",
    "largest_orders = orders.groupby(['Customer_Number'])['Customer_Number'].count()\n",
    "largest_orders.columns=['Customer_Number','number_of_orders']\n",
    "largest_orders"
   ]
  }
 ],
 "metadata": {
  "kernelspec": {
   "display_name": "venv",
   "language": "python",
   "name": "python3"
  },
  "language_info": {
   "codemirror_mode": {
    "name": "ipython",
    "version": 3
   },
   "file_extension": ".py",
   "mimetype": "text/x-python",
   "name": "python",
   "nbconvert_exporter": "python",
   "pygments_lexer": "ipython3",
   "version": "3.11.5"
  }
 },
 "nbformat": 4,
 "nbformat_minor": 2
}
